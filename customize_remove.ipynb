{
  "nbformat": 4,
  "nbformat_minor": 0,
  "metadata": {
    "colab": {
      "provenance": [],
      "authorship_tag": "ABX9TyMrtDLH4o62uZmbi22iE2Sk",
      "include_colab_link": true
    },
    "kernelspec": {
      "name": "python3",
      "display_name": "Python 3"
    },
    "language_info": {
      "name": "python"
    }
  },
  "cells": [
    {
      "cell_type": "markdown",
      "metadata": {
        "id": "view-in-github",
        "colab_type": "text"
      },
      "source": [
        "<a href=\"https://colab.research.google.com/github/artsamir/chobi-poriskar/blob/main/customize_remove.ipynb\" target=\"_parent\"><img src=\"https://colab.research.google.com/assets/colab-badge.svg\" alt=\"Open In Colab\"/></a>"
      ]
    },
    {
      "cell_type": "markdown",
      "source": [
        "# New section"
      ],
      "metadata": {
        "id": "GCouqbDEj86l"
      }
    },
    {
      "cell_type": "code",
      "source": [
        "!mkdir chobi-poriskar\n",
        "\n"
      ],
      "metadata": {
        "id": "z10g0yB1EpTa"
      },
      "execution_count": 1,
      "outputs": []
    },
    {
      "cell_type": "code",
      "source": [
        "%cd chobi-poriskar"
      ],
      "metadata": {
        "colab": {
          "base_uri": "https://localhost:8080/"
        },
        "id": "s6ML3cfUonTT",
        "outputId": "d5af16ad-b000-412b-e689-21c1b51da092"
      },
      "execution_count": 5,
      "outputs": [
        {
          "output_type": "stream",
          "name": "stdout",
          "text": [
            "/content/chobi-poriskar\n"
          ]
        }
      ]
    },
    {
      "cell_type": "code",
      "source": [
        "!mkdir -p input output\n",
        "\n"
      ],
      "metadata": {
        "id": "4ZAa4Rp8o34n"
      },
      "execution_count": 6,
      "outputs": []
    }
  ]
}